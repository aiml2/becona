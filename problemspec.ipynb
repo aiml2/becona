{
 "cells": [
  {
   "attachments": {},
   "cell_type": "markdown",
   "metadata": {},
   "source": [
    "# Becona problem specification\n",
    "\n",
    "## Introduction\n",
    "\n",
    "Becona is a concrete casting company. They rent out equipment and expertise to construction companies. When the equipment returns from rental it has to be cleaned, sorted and counted. Currently, the last two tasks are done by (heavy) manual labour. A more automated sorting system could reduce the amount of manual labour/concentration needed and hopefully increase accuracy of the sorting.\n",
    "\n",
    "The assembly line machinery can be made in house. The classification problem for sorting the equipment is the main focus of this project.\n",
    "\n",
    "## Equipment\n",
    "\n",
    "There are numerous (~30) pieces of equipment and they range broadly in size: Ranging from the size of a pencil to the size of a shovel. Several pieces of the equipment have movable parts.  Some pieces of equipment have different makes with possible differences between batches.\n",
    "\n",
    "Each piece is designed in-house and 3D CAD files are available for each of them. Different batches of the same equipment can have slight physical changes: other materials, reworked form but. On top of that comes the wear and tear of the equipment: damaged coating, leftover dirt, concrete smudges, chipped of parts that don't impede the functionality.\n",
    "\n",
    "## Equipment Classification\n",
    "\n",
    "For sorting \n",
    "\n",
    "\n",
    "# Current Progress\n",
    "\n",
    "## Data Collection\n",
    "\n",
    "1500 hand taken photos spanning six different classes. Attempted to capture as much variation as possible in a non-orderly way. Resulting in photos whith different illumination, wear and tear, make, background and point of view.\n",
    "\n",
    "* 1 Spanklem\n",
    "* 2.0 VleugelmoerOplegRecht_Oud_rond_twee_gaten\n",
    "* 2.1 VleugelMoerOplegRecht_Nieuw_geen_gaten\n",
    "* 3_VleugelMoerOpleg_Rond\n",
    "* 4.0_Variable_Spanklem_Kort\n",
    "* 4.1_Variable_Spanklem_Lang\n",
    "\n",
    "\n",
    "2.0 and 2.1 differ in make but are functionally identical\n",
    "4.0 and 4.1 differ in sizes.\n",
    "\n",
    "\n",
    "##\n",
    "\n",
    "\n",
    "# Ideas\n",
    "\n",
    "\n",
    "# Additional Classifications\n",
    "\n",
    "Sometimes functionally equal equipment from competitors is returned instead of the Becona equipment. While sorting the non-becona items should be placed in a seperate bin.\n",
    "\n",
    "Being able to distinguish between the makes of the same equipment could be a nice addition for the future.\n"
   ]
  },
  {
   "cell_type": "code",
   "execution_count": null,
   "metadata": {},
   "outputs": [],
   "source": []
  }
 ],
 "metadata": {
  "kernelspec": {
   "display_name": "Python 3",
   "language": "python",
   "name": "python3"
  },
  "language_info": {
   "codemirror_mode": {
    "name": "ipython",
    "version": 3
   },
   "file_extension": ".py",
   "mimetype": "text/x-python",
   "name": "python",
   "nbconvert_exporter": "python",
   "pygments_lexer": "ipython3",
   "version": "3.6.2"
  }
 },
 "nbformat": 4,
 "nbformat_minor": 2
}
